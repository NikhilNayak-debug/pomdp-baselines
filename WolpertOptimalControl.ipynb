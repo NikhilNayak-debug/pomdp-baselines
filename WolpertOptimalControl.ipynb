{
 "cells": [
  {
   "cell_type": "code",
   "execution_count": 1,
   "id": "c19cfe42-a392-425b-a275-82f64655bbc1",
   "metadata": {},
   "outputs": [
    {
     "ename": "ModuleNotFoundError",
     "evalue": "No module named 'gym'",
     "output_type": "error",
     "traceback": [
      "\u001b[0;31m---------------------------------------------------------------------------\u001b[0m",
      "\u001b[0;31mModuleNotFoundError\u001b[0m                       Traceback (most recent call last)",
      "\u001b[0;32m<ipython-input-1-c279899bf3dd>\u001b[0m in \u001b[0;36m<module>\u001b[0;34m\u001b[0m\n\u001b[0;32m----> 1\u001b[0;31m \u001b[0;32mimport\u001b[0m \u001b[0mgym\u001b[0m\u001b[0;34m\u001b[0m\u001b[0;34m\u001b[0m\u001b[0m\n\u001b[0m\u001b[1;32m      2\u001b[0m \u001b[0;32mfrom\u001b[0m \u001b[0mgym\u001b[0m \u001b[0;32mimport\u001b[0m \u001b[0mspaces\u001b[0m\u001b[0;34m\u001b[0m\u001b[0;34m\u001b[0m\u001b[0m\n\u001b[1;32m      3\u001b[0m \u001b[0;32mimport\u001b[0m \u001b[0mnumpy\u001b[0m \u001b[0;32mas\u001b[0m \u001b[0mnp\u001b[0m\u001b[0;34m\u001b[0m\u001b[0;34m\u001b[0m\u001b[0m\n\u001b[1;32m      4\u001b[0m \u001b[0;32mimport\u001b[0m \u001b[0mtorch\u001b[0m\u001b[0;34m\u001b[0m\u001b[0;34m\u001b[0m\u001b[0m\n",
      "\u001b[0;31mModuleNotFoundError\u001b[0m: No module named 'gym'"
     ]
    }
   ],
   "source": [
    "import gym\n",
    "from gym import spaces\n",
    "import numpy as np\n",
    "import torch"
   ]
  },
  {
   "cell_type": "code",
   "execution_count": 2,
   "id": "eccd03b3-88d5-481c-b402-0a9e438c6f78",
   "metadata": {},
   "outputs": [],
   "source": [
    "import torch"
   ]
  },
  {
   "cell_type": "code",
   "execution_count": 8,
   "id": "aeef153e-c0d7-48ae-8b16-242dc83e5417",
   "metadata": {},
   "outputs": [
    {
     "data": {
      "text/plain": [
       "(1, 5)"
      ]
     },
     "execution_count": 8,
     "metadata": {},
     "output_type": "execute_result"
    }
   ],
   "source": [
    "import numpy as np\n",
    "\n",
    "obs_size = 5  # Example value for self.obs_size\n",
    "np.zeros((1, obs_size)).shape"
   ]
  },
  {
   "cell_type": "code",
   "execution_count": null,
   "id": "da86950e-5a24-4591-ae2a-b27d7b3f4e09",
   "metadata": {},
   "outputs": [],
   "source": [
    "world_size = 4\n",
    "control_size = 2\n",
    "obs_size = 4\n",
    "\n",
    "A = torch.from_numpy(np.array([\n",
    "    [0.0, 1.0, 0.0, 0.0],  # x\n",
    "    [0.0, 0.0, 0.0, 0.0],  # x_dot\n",
    "    [0.0, 0.0, 0.0, 1.0],  # y\n",
    "    [0.0, 0.0, 0.0, 0.0],  # y_dot\n",
    "]))\n",
    "\n",
    "B = torch.from_numpy(np.array([\n",
    "    [0., 0.],\n",
    "    [1., 0.],\n",
    "    [0., 0.],\n",
    "    [0., 1.],\n",
    "]))\n",
    "\n",
    "C = torch.from_numpy(np.array([\n",
    "    [1., 0., 0., 0.],\n",
    "    [0., 0., 1., 0.]\n",
    "]))\n",
    "\n",
    "initial_angle = np.random.uniform(0, 2 * np.pi)\n",
    "\n",
    "state = torch.tensor([\n",
    "    [np.cos(initial_angle), 0.0, np.sin(initial_angle), 0.0]\n",
    "    for index in range(1)\n",
    "])"
   ]
  },
  {
   "cell_type": "code",
   "execution_count": null,
   "id": "cb96a4d8-5dc5-4bdd-a893-a85bb79fcc2e",
   "metadata": {},
   "outputs": [],
   "source": [
    "def step():\n",
    "\n",
    "    # Simulate one step in the environment\n",
    "    control = torch.tensor([[ 1.00000000e+00,  1.73205081e+00, -6.29500991e-17,\n",
    "     -2.28485717e-16],\n",
    "    [-4.63895536e-17, -2.28485717e-16,  1.00000000e+00,\n",
    "      1.73205081e+00]])\n",
    "\n",
    "    dx = state.float() @ A.T.float() + state.float() @ control.T.float() @ B.T.float()\n",
    "\n",
    "    state += dx.numpy() * 0.05\n",
    "\n",
    "    y = self.obs(self.state)\n",
    "    reward = -torch.mean(torch.square(torch.tensor([self.state[0][0], self.state[0][2]]))).item()\n",
    "    thresh = -0.04\n",
    "    print('reward', reward)\n",
    "    print('state', [self.state[0][0], self.state[0][2]])\n",
    "    # if reward.item() > thresh:\n",
    "    if reward > thresh:\n",
    "        return y, 1e4, True, {}\n",
    "    elif reward < -100:\n",
    "        return y, 10*reward, True, {}\n",
    "    else:\n",
    "        return y, reward, False, {}\n",
    "\n",
    "    \n",
    "def obs(x, visible=True):\n",
    "    return np.array(torch.flatten(x))"
   ]
  },
  {
   "cell_type": "code",
   "execution_count": null,
   "id": "b770ea8a-d184-4fa1-ba89-73643d40cfbb",
   "metadata": {},
   "outputs": [],
   "source": [
    "for _ in range(1000):\n",
    "    obs, reward, done, _ = step()\n",
    "    if done:\n",
    "        print('Done, reward is:', reward)\n",
    "        break"
   ]
  }
 ],
 "metadata": {
  "kernelspec": {
   "display_name": "Python 3",
   "language": "python",
   "name": "python3"
  },
  "language_info": {
   "codemirror_mode": {
    "name": "ipython",
    "version": 3
   },
   "file_extension": ".py",
   "mimetype": "text/x-python",
   "name": "python",
   "nbconvert_exporter": "python",
   "pygments_lexer": "ipython3",
   "version": "3.8.8"
  }
 },
 "nbformat": 4,
 "nbformat_minor": 5
}
